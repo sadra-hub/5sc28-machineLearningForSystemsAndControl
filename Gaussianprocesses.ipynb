{
 "cells": [
  {
   "cell_type": "markdown",
   "id": "6b613ba2",
   "metadata": {},
   "source": [
    "# Asignment for ML Systems & Control\n",
    "\n",
    "## 1. Modeling the System Dynamics\n",
    "\n",
    "### 1.1 Gaussian Process (GP) model"
   ]
  },
  {
   "cell_type": "code",
   "execution_count": null,
   "id": "96fb5898",
   "metadata": {
    "vscode": {
     "languageId": "plaintext"
    }
   },
   "outputs": [],
   "source": []
  }
 ],
 "metadata": {
  "language_info": {
   "name": "python"
  }
 },
 "nbformat": 4,
 "nbformat_minor": 5
}
